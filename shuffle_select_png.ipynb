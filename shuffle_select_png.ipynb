{
 "cells": [
  {
   "cell_type": "code",
   "execution_count": null,
   "metadata": {},
   "outputs": [],
   "source": []
  },
  {
   "cell_type": "code",
   "execution_count": 9,
   "metadata": {},
   "outputs": [
    {
     "data": {
      "text/plain": [
       "['C:\\\\Users\\\\a5658\\\\NTHU\\\\大三下\\\\多媒體技術概論\\\\Final\\\\128\\\\emoji_u1f645_1f3ff_200d_2642.png',\n",
       " 'C:\\\\Users\\\\a5658\\\\NTHU\\\\大三下\\\\多媒體技術概論\\\\Final\\\\128\\\\emoji_u1f4b5.png',\n",
       " 'C:\\\\Users\\\\a5658\\\\NTHU\\\\大三下\\\\多媒體技術概論\\\\Final\\\\128\\\\emoji_u1f469_1f3fc_200d_1f3eb.png',\n",
       " 'C:\\\\Users\\\\a5658\\\\NTHU\\\\大三下\\\\多媒體技術概論\\\\Final\\\\128\\\\emoji_u1f468_1f3fe_200d_2764_200d_1f48b_200d_1f468_1f3fe.png',\n",
       " 'C:\\\\Users\\\\a5658\\\\NTHU\\\\大三下\\\\多媒體技術概論\\\\Final\\\\128\\\\emoji_u1f64e_1f3ff_200d_2642.png',\n",
       " 'C:\\\\Users\\\\a5658\\\\NTHU\\\\大三下\\\\多媒體技術概論\\\\Final\\\\128\\\\emoji_u1f58a.png',\n",
       " 'C:\\\\Users\\\\a5658\\\\NTHU\\\\大三下\\\\多媒體技術概論\\\\Final\\\\128\\\\emoji_u1f9d5_1f3fd.png',\n",
       " 'C:\\\\Users\\\\a5658\\\\NTHU\\\\大三下\\\\多媒體技術概論\\\\Final\\\\128\\\\emoji_u1f6cc_1f3fb.png',\n",
       " 'C:\\\\Users\\\\a5658\\\\NTHU\\\\大三下\\\\多媒體技術概論\\\\Final\\\\128\\\\emoji_u1f3c4_1f3ff_200d_2640.png',\n",
       " 'C:\\\\Users\\\\a5658\\\\NTHU\\\\大三下\\\\多媒體技術概論\\\\Final\\\\128\\\\emoji_u1f645_1f3fc.png',\n",
       " 'C:\\\\Users\\\\a5658\\\\NTHU\\\\大三下\\\\多媒體技術概論\\\\Final\\\\128\\\\emoji_u1f3e7.png',\n",
       " 'C:\\\\Users\\\\a5658\\\\NTHU\\\\大三下\\\\多媒體技術概論\\\\Final\\\\128\\\\emoji_u1f9d9_1f3fc_200d_2640.png',\n",
       " 'C:\\\\Users\\\\a5658\\\\NTHU\\\\大三下\\\\多媒體技術概論\\\\Final\\\\128\\\\emoji_u1f9ea.png',\n",
       " 'C:\\\\Users\\\\a5658\\\\NTHU\\\\大三下\\\\多媒體技術概論\\\\Final\\\\128\\\\emoji_u1f6b6_200d_2642_200d_27a1.png',\n",
       " 'C:\\\\Users\\\\a5658\\\\NTHU\\\\大三下\\\\多媒體技術概論\\\\Final\\\\128\\\\emoji_u1f481_1f3fc_200d_2642.png']"
      ]
     },
     "execution_count": 9,
     "metadata": {},
     "output_type": "execute_result"
    }
   ],
   "source": [
    "import random\n",
    "import glob\n",
    "paths = glob.glob(\"C:\\\\Users\\\\a5658\\\\NTHU\\\\大三下\\\\多媒體技術概論\\\\Final\\\\128\\\\*.png\")\n",
    "random.shuffle(paths)\n",
    "paths[:15]"
   ]
  },
  {
   "cell_type": "code",
   "execution_count": 12,
   "metadata": {},
   "outputs": [],
   "source": [
    "import shutil\n",
    "for path in paths[:15]:\n",
    "    dst=\"C:\\\\Users\\\\a5658\\\\NTHU\\\\大三下\\\\多媒體技術概論\\\\Final\\\\random128\\\\\"+path.split(\"\\\\\")[-1]\n",
    "    shutil.copyfile(path, dst)"
   ]
  }
 ],
 "metadata": {
  "kernelspec": {
   "display_name": "SAMVG",
   "language": "python",
   "name": "python3"
  },
  "language_info": {
   "codemirror_mode": {
    "name": "ipython",
    "version": 3
   },
   "file_extension": ".py",
   "mimetype": "text/x-python",
   "name": "python",
   "nbconvert_exporter": "python",
   "pygments_lexer": "ipython3",
   "version": "3.8.19"
  }
 },
 "nbformat": 4,
 "nbformat_minor": 2
}
